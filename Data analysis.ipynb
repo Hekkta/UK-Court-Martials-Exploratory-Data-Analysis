{
 "cells": [
  {
   "cell_type": "markdown",
   "metadata": {},
   "source": [
    "<h2>UK court martial data from 2010 to 2019, exploritory analysis<h2>"
   ]
  },
  {
   "cell_type": "code",
   "execution_count": 1,
   "metadata": {},
   "outputs": [],
   "source": [
    "# importing libraries\n",
    "\n",
    "# Array handling\n",
    "import numpy as np\n",
    "\n",
    "# Dataframe and csv handling\n",
    "import pandas as pd\n",
    "\n",
    "# Graph and chart creation\n",
    "import seaborn as sns\n",
    "sns.set_theme(style=\"darkgrid\")"
   ]
  },
  {
   "cell_type": "code",
   "execution_count": 2,
   "metadata": {},
   "outputs": [
    {
     "data": {
      "text/html": [
       "<div>\n",
       "<style scoped>\n",
       "    .dataframe tbody tr th:only-of-type {\n",
       "        vertical-align: middle;\n",
       "    }\n",
       "\n",
       "    .dataframe tbody tr th {\n",
       "        vertical-align: top;\n",
       "    }\n",
       "\n",
       "    .dataframe thead th {\n",
       "        text-align: right;\n",
       "    }\n",
       "</style>\n",
       "<table border=\"1\" class=\"dataframe\">\n",
       "  <thead>\n",
       "    <tr style=\"text-align: right;\">\n",
       "      <th></th>\n",
       "      <th>Rank</th>\n",
       "      <th>Service</th>\n",
       "      <th>Sentencing Date</th>\n",
       "      <th>Charge (s)</th>\n",
       "      <th>Finding</th>\n",
       "      <th>Sentence</th>\n",
       "    </tr>\n",
       "  </thead>\n",
       "  <tbody>\n",
       "    <tr>\n",
       "      <th>0</th>\n",
       "      <td>Signaller</td>\n",
       "      <td>Army</td>\n",
       "      <td>2010-01-07</td>\n",
       "      <td>2 x Battery, 1 x Assault Occasioning Actual Bo...</td>\n",
       "      <td>1 x Not Guilty, 2 x Guilty</td>\n",
       "      <td>Admonished</td>\n",
       "    </tr>\n",
       "    <tr>\n",
       "      <th>1</th>\n",
       "      <td>Guardsman</td>\n",
       "      <td>Army</td>\n",
       "      <td>2010-01-13</td>\n",
       "      <td>1 x Absence Without Leave</td>\n",
       "      <td>Guilty</td>\n",
       "      <td>8 months detention</td>\n",
       "    </tr>\n",
       "    <tr>\n",
       "      <th>2</th>\n",
       "      <td>Signaller</td>\n",
       "      <td>Army</td>\n",
       "      <td>2010-01-13</td>\n",
       "      <td>1 x Absence Without Leave</td>\n",
       "      <td>Guilty</td>\n",
       "      <td>6 months detention</td>\n",
       "    </tr>\n",
       "    <tr>\n",
       "      <th>3</th>\n",
       "      <td>Guardsman</td>\n",
       "      <td>Army</td>\n",
       "      <td>2010-01-21</td>\n",
       "      <td>1 x Desertion, 1 x Absence Without Leave</td>\n",
       "      <td>Not Guilty, Guilty</td>\n",
       "      <td>6 months detention</td>\n",
       "    </tr>\n",
       "    <tr>\n",
       "      <th>4</th>\n",
       "      <td>Gunner</td>\n",
       "      <td>Army</td>\n",
       "      <td>2010-01-22</td>\n",
       "      <td>4 x Absence Without Leave</td>\n",
       "      <td>Guilty</td>\n",
       "      <td>120 days detention</td>\n",
       "    </tr>\n",
       "  </tbody>\n",
       "</table>\n",
       "</div>"
      ],
      "text/plain": [
       "        Rank Service Sentencing Date  \\\n",
       "0  Signaller    Army      2010-01-07   \n",
       "1  Guardsman    Army      2010-01-13   \n",
       "2  Signaller    Army      2010-01-13   \n",
       "3  Guardsman    Army      2010-01-21   \n",
       "4     Gunner    Army      2010-01-22   \n",
       "\n",
       "                                          Charge (s)  \\\n",
       "0  2 x Battery, 1 x Assault Occasioning Actual Bo...   \n",
       "1                          1 x Absence Without Leave   \n",
       "2                          1 x Absence Without Leave   \n",
       "3           1 x Desertion, 1 x Absence Without Leave   \n",
       "4                          4 x Absence Without Leave   \n",
       "\n",
       "                      Finding            Sentence  \n",
       "0  1 x Not Guilty, 2 x Guilty          Admonished  \n",
       "1                      Guilty  8 months detention  \n",
       "2                      Guilty  6 months detention  \n",
       "3          Not Guilty, Guilty  6 months detention  \n",
       "4                      Guilty  120 days detention  "
      ]
     },
     "execution_count": 2,
     "metadata": {},
     "output_type": "execute_result"
    }
   ],
   "source": [
    "# import the csv file to a pandas dataframe and take a look at the first 5 rows\n",
    "\n",
    "df = pd.read_csv('court_martial_dataframe.csv')\n",
    "\n",
    "df.head()"
   ]
  },
  {
   "cell_type": "markdown",
   "metadata": {},
   "source": [
    "<b>Dataset features<b>"
   ]
  },
  {
   "cell_type": "code",
   "execution_count": 3,
   "metadata": {},
   "outputs": [
    {
     "name": "stdout",
     "output_type": "stream",
     "text": [
      "The columns (features) of the data set are: \n",
      " ['Rank', 'Service', 'Sentencing Date', 'Charge (s)', 'Finding', 'Sentence']\n"
     ]
    }
   ],
   "source": [
    "# Create a column list to be presented\n",
    "\n",
    "column_list = []\n",
    "\n",
    "# Add each column to the list\n",
    "\n",
    "for column in df.columns:\n",
    "    column_list.append(column)\n",
    "    \n",
    "print('The columns (features) of the data set are: \\n {}'.format(column_list))"
   ]
  },
  {
   "cell_type": "markdown",
   "metadata": {},
   "source": [
    "<b>Dataset size"
   ]
  },
  {
   "cell_type": "code",
   "execution_count": 4,
   "metadata": {
    "scrolled": true
   },
   "outputs": [
    {
     "name": "stdout",
     "output_type": "stream",
     "text": [
      "There are a total of 4851 court martials (rows) in the dataset.\n"
     ]
    }
   ],
   "source": [
    "print('There are a total of {} court martials (rows) in the dataset.'.format(df.shape[0]))"
   ]
  },
  {
   "cell_type": "markdown",
   "metadata": {},
   "source": [
    "<b>Number of unique ranks"
   ]
  },
  {
   "cell_type": "code",
   "execution_count": 5,
   "metadata": {},
   "outputs": [
    {
     "name": "stdout",
     "output_type": "stream",
     "text": [
      "There are a total of 338 unique ranks in the dataset.\n"
     ]
    }
   ],
   "source": [
    "print('There are a total of {} unique ranks in the dataset.'.format(len(df['Rank'].unique())))"
   ]
  },
  {
   "cell_type": "markdown",
   "metadata": {},
   "source": [
    "<b>Most court martialed ranks"
   ]
  },
  {
   "cell_type": "code",
   "execution_count": 6,
   "metadata": {},
   "outputs": [
    {
     "name": "stdout",
     "output_type": "stream",
     "text": [
      "The top 10 most court maritaled ranks are:\n",
      "\n"
     ]
    },
    {
     "data": {
      "text/plain": [
       "Private           901\n",
       "Lance Corporal    493\n",
       "Corporal          482\n",
       "Sergeant          232\n",
       "Rifleman          167\n",
       "Fusilier          166\n",
       "Trooper           157\n",
       "Gunner            151\n",
       "Sapper            150\n",
       "Guardsman         140\n",
       "Name: Rank, dtype: int64"
      ]
     },
     "execution_count": 6,
     "metadata": {},
     "output_type": "execute_result"
    }
   ],
   "source": [
    "print('The top 10 most court maritaled ranks are:\\n')\n",
    "df['Rank'].value_counts().head(10)"
   ]
  },
  {
   "cell_type": "markdown",
   "metadata": {},
   "source": [
    "<b>Number of court martials by service"
   ]
  },
  {
   "cell_type": "code",
   "execution_count": 7,
   "metadata": {
    "scrolled": false
   },
   "outputs": [
    {
     "name": "stdout",
     "output_type": "stream",
     "text": [
      "The number of cases by service are:\n"
     ]
    },
    {
     "data": {
      "text/plain": [
       "Army        3894\n",
       "Navy         488\n",
       "RAF          313\n",
       "Civilian      83\n",
       "Marines       67\n",
       "Name: Service, dtype: int64"
      ]
     },
     "execution_count": 7,
     "metadata": {},
     "output_type": "execute_result"
    }
   ],
   "source": [
    "print('The number of cases by service are:')\n",
    "df['Service'].value_counts()"
   ]
  },
  {
   "cell_type": "code",
   "execution_count": 8,
   "metadata": {},
   "outputs": [
    {
     "data": {
      "image/png": "[encoded data removed]",
      "text/plain": [
       "<Figure size 432x288 with 1 Axes>"
      ]
     },
     "metadata": {},
     "output_type": "display_data"
    }
   ],
   "source": [
    "ax = sns.countplot(x=df[\"Service\"])"
   ]
  },
  {
   "cell_type": "markdown",
   "metadata": {},
   "source": [
    "<b>By service as a percent (not including civilians)"
   ]
  },
  {
   "cell_type": "code",
   "execution_count": 9,
   "metadata": {},
   "outputs": [
    {
     "name": "stdout",
     "output_type": "stream",
     "text": [
      "The number of cases by service as a percent are:\n"
     ]
    },
    {
     "data": {
      "text/plain": [
       "Army       80.371517\n",
       "Navy       10.072239\n",
       "RAF         6.460268\n",
       "Marines     1.382869\n",
       "Name: Service, dtype: float64"
      ]
     },
     "execution_count": 9,
     "metadata": {},
     "output_type": "execute_result"
    }
   ],
   "source": [
    "print('The number of cases by service as a percent are:')\n",
    "cases_series = df['Service'].value_counts().drop(labels = ['Civilian'])\n",
    "\n",
    "# Convert to a percent\n",
    "\n",
    "cases_series = (cases_series/df['Service'].value_counts().sum())*100\n",
    "cases_series"
   ]
  },
  {
   "cell_type": "markdown",
   "metadata": {},
   "source": [
    "<b>Comparison of court martial cases with number of personnel per service</b>\n",
    "\n",
    "It would be nice to compare these to the actual amount of personnel (as a percent) that each service contributes to the armed forces.\n",
    "\n",
    "We can find the proportion of each service to the total armed forces here:\n",
    "\n",
    "https://www.statista.com/statistics/579991/number-of-uk-armed-forces-by-military-branch/"
   ]
  },
  {
   "cell_type": "code",
   "execution_count": 10,
   "metadata": {
    "scrolled": true
   },
   "outputs": [
    {
     "data": {
      "text/html": [
       "<div>\n",
       "<style scoped>\n",
       "    .dataframe tbody tr th:only-of-type {\n",
       "        vertical-align: middle;\n",
       "    }\n",
       "\n",
       "    .dataframe tbody tr th {\n",
       "        vertical-align: top;\n",
       "    }\n",
       "\n",
       "    .dataframe thead th {\n",
       "        text-align: right;\n",
       "    }\n",
       "</style>\n",
       "<table border=\"1\" class=\"dataframe\">\n",
       "  <thead>\n",
       "    <tr style=\"text-align: right;\">\n",
       "      <th></th>\n",
       "      <th>Service</th>\n",
       "      <th>Personnel</th>\n",
       "      <th>Cases</th>\n",
       "    </tr>\n",
       "  </thead>\n",
       "  <tbody>\n",
       "    <tr>\n",
       "      <th>0</th>\n",
       "      <td>Army</td>\n",
       "      <td>56.631757</td>\n",
       "      <td>80.371517</td>\n",
       "    </tr>\n",
       "    <tr>\n",
       "      <th>1</th>\n",
       "      <td>Navy</td>\n",
       "      <td>16.314317</td>\n",
       "      <td>10.072239</td>\n",
       "    </tr>\n",
       "    <tr>\n",
       "      <th>2</th>\n",
       "      <td>RAF</td>\n",
       "      <td>22.071164</td>\n",
       "      <td>6.460268</td>\n",
       "    </tr>\n",
       "    <tr>\n",
       "      <th>3</th>\n",
       "      <td>Marines</td>\n",
       "      <td>4.982762</td>\n",
       "      <td>1.382869</td>\n",
       "    </tr>\n",
       "  </tbody>\n",
       "</table>\n",
       "</div>"
      ],
      "text/plain": [
       "   Service  Personnel      Cases\n",
       "0     Army  56.631757  80.371517\n",
       "1     Navy  16.314317  10.072239\n",
       "2      RAF  22.071164   6.460268\n",
       "3  Marines   4.982762   1.382869"
      ]
     },
     "execution_count": 10,
     "metadata": {},
     "output_type": "execute_result"
    }
   ],
   "source": [
    "# Using the personnel figures from 2015\n",
    "Total_personnel = 153.73\n",
    "Service_personnel = {'Service': ['Army', 'Navy', 'RAF', 'Marines'], 'Personnel':[87.06, 25.08, 33.93, 7.66]}\n",
    "\n",
    "personnel_df = pd.DataFrame(data=Service_personnel)\n",
    "\n",
    "# Converting to a percent\n",
    "\n",
    "personnel_df['Personnel'] = (personnel_df['Personnel']/personnel_df['Personnel'].sum())*100\n",
    "\n",
    "# Adding the cases_series as a column\n",
    "\n",
    "personnel_df['Cases'] = cases_series.values\n",
    "\n",
    "personnel_df.head()"
   ]
  },
  {
   "cell_type": "code",
   "execution_count": 11,
   "metadata": {},
   "outputs": [
    {
     "data": {
      "image/png": "[encoded data removed]",
      "text/plain": [
       "<Figure size 432x288 with 1 Axes>"
      ]
     },
     "metadata": {},
     "output_type": "display_data"
    }
   ],
   "source": [
    "# Melt the data to be able to graph it tidily\n",
    "\n",
    "data_df = personnel_df.melt('Service', var_name='Category', value_name='Percent')\n",
    "\n",
    "# Plot the data\n",
    "\n",
    "ax = sns.barplot(\n",
    "    data= data_df,\n",
    "    x= 'Service',\n",
    "    y= 'Percent',\n",
    "    hue='Category')"
   ]
  },
  {
   "cell_type": "markdown",
   "metadata": {},
   "source": [
    "This indicates that the Army has a much higher court martial rate per soldier than any other service in particular the marines who have a very low rate of cases."
   ]
  },
  {
   "cell_type": "markdown",
   "metadata": {},
   "source": [
    "<b>Analysing the dates"
   ]
  },
  {
   "cell_type": "code",
   "execution_count": 12,
   "metadata": {
    "scrolled": true
   },
   "outputs": [
    {
     "data": {
      "text/plain": [
       "array(['01', '02', '03', '04', '05', '06', '07', '08', '09', '10', '11',\n",
       "       '12'], dtype=object)"
      ]
     },
     "execution_count": 12,
     "metadata": {},
     "output_type": "execute_result"
    }
   ],
   "source": [
    "# Concentrate on the month\n",
    "\n",
    "dates_df = df['Sentencing Date'].apply(lambda x: x[5:7])\n",
    "\n",
    "# Dropping a single freak date labelled differently\n",
    "\n",
    "dates_df = dates_df.drop(labels=2963)\n",
    "\n",
    "dates_df.unique()"
   ]
  },
  {
   "cell_type": "code",
   "execution_count": 13,
   "metadata": {},
   "outputs": [
    {
     "data": {
      "text/plain": [
       "<AxesSubplot:xlabel='Sentencing Date', ylabel='count'>"
      ]
     },
     "execution_count": 13,
     "metadata": {},
     "output_type": "execute_result"
    },
    {
     "data": {
      "image/png": "[encoded data removed]",
      "text/plain": [
       "<Figure size 432x288 with 1 Axes>"
      ]
     },
     "metadata": {},
     "output_type": "display_data"
    }
   ],
   "source": [
    "# Plot the data\n",
    "\n",
    "sns.countplot(x=dates_df)"
   ]
  },
  {
   "cell_type": "markdown",
   "metadata": {},
   "source": [
    "There seems to be an aversion to sentencing in August."
   ]
  },
  {
   "cell_type": "code",
   "execution_count": null,
   "metadata": {},
   "outputs": [],
   "source": []
  }
 ],
 "metadata": {
  "kernelspec": {
   "display_name": "Python 3",
   "language": "python",
   "name": "python3"
  },
  "language_info": {
   "codemirror_mode": {
    "name": "ipython",
    "version": 3
   },
   "file_extension": ".py",
   "mimetype": "text/x-python",
   "name": "python",
   "nbconvert_exporter": "python",
   "pygments_lexer": "ipython3",
   "version": "3.8.6"
  }
 },
 "nbformat": 4,
 "nbformat_minor": 4
}
